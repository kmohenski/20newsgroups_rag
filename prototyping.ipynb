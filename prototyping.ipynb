{
 "cells": [
  {
   "cell_type": "markdown",
   "id": "b5f5baf6",
   "metadata": {},
   "source": [
    "## LangChain RAG prototyping\n",
    "\n"
   ]
  },
  {
   "cell_type": "code",
   "execution_count": null,
   "id": "dc289303",
   "metadata": {},
   "outputs": [],
   "source": [
    "#%%pip install poetry"
   ]
  },
  {
   "cell_type": "code",
   "execution_count": null,
   "id": "f708dc0a",
   "metadata": {},
   "outputs": [],
   "source": [
    "#%%poetry install"
   ]
  },
  {
   "cell_type": "code",
   "execution_count": 10,
   "id": "8a3eb6d3",
   "metadata": {},
   "outputs": [],
   "source": [
    "from dotenv import find_dotenv, load_dotenv\n",
    "from pydantic_settings import BaseSettings, SettingsConfigDict\n",
    "\n",
    "load_dotenv(find_dotenv(\".env\"))\n",
    "\n",
    "\n",
    "class BaseConfig(BaseSettings):\n",
    "    \"\"\"Base settings.\"\"\"\n",
    "\n",
    "    OPENAI_API_KEY: str | None = None\n",
    "    model_config = SettingsConfigDict(env_file=find_dotenv(\".env\"), extra=\"ignore\")\n",
    "\n",
    "\n",
    "config = BaseConfig()\n",
    "OPENAI_API_KEY = config.OPENAI_API_KEY"
   ]
  },
  {
   "cell_type": "code",
   "execution_count": 2,
   "id": "b2b3e46d",
   "metadata": {},
   "outputs": [],
   "source": [
    "from sklearn.datasets import fetch_20newsgroups\n",
    "from langchain.schema import Document\n",
    "\n",
    "newsgroups_data = fetch_20newsgroups(subset='train', categories=['sci.space'])  # minimalize amount of documents for testing\n",
    "documents = [Document(page_content=text) for text in newsgroups_data[\"data\"]]"
   ]
  },
  {
   "cell_type": "code",
   "execution_count": 3,
   "id": "ec9c004f",
   "metadata": {},
   "outputs": [],
   "source": [
    "from langchain_text_splitters import RecursiveCharacterTextSplitter\n",
    "from langchain_chroma import Chroma\n",
    "from langchain_openai import OpenAIEmbeddings\n",
    "\n",
    "text_splitter = RecursiveCharacterTextSplitter(chunk_size=1024, chunk_overlap=128)\n",
    "\n",
    "splits = text_splitter.split_documents(documents)\n",
    "# vectorstore = Chroma.from_documents(documents=splits, embedding=OpenAIEmbeddings(), persist_directory=\"chroma_db\")  # first run\n",
    "vectorstore = Chroma(persist_directory=\"chroma_db\", embedding_function=OpenAIEmbeddings())  # subsequent runs"
   ]
  },
  {
   "cell_type": "code",
   "execution_count": 4,
   "id": "73e624b0",
   "metadata": {},
   "outputs": [],
   "source": [
    "retriever = vectorstore.as_retriever(search_type=\"similarity\", search_kwargs={\"k\": 5})"
   ]
  },
  {
   "cell_type": "code",
   "execution_count": 5,
   "id": "a58d58f4",
   "metadata": {},
   "outputs": [
    {
     "name": "stdout",
     "output_type": "stream",
     "text": [
      "5\n",
      "page_content='From: leech@cs.unc.edu (Jon Leech)\n",
      "Subject: Space FAQ 14/15 - How to Become an Astronaut\n",
      "Keywords: Frequently Asked Questions\n",
      "Article-I.D.: cs.astronaut_733694515\n",
      "Expires: 6 May 1993 20:01:55 GMT\n",
      "Distribution: world\n",
      "Organization: University of North Carolina, Chapel Hill\n",
      "Lines: 313\n",
      "Supersedes: <astronaut_730956661@cs.unc.edu>\n",
      "NNTP-Posting-Host: mahler.cs.unc.edu\n",
      "\n",
      "Archive-name: space/astronaut\n",
      "Last-modified: $Date: 93/04/01 14:39:02 $\n",
      "\n",
      "HOW TO BECOME AN ASTRONAUT\n",
      "\n",
      "    First the short form, authored by Henry Spencer, then an official NASA\n",
      "    announcement.\n",
      "\n",
      "    Q. How do I become an astronaut?'\n",
      "page_content='Q. How do I become an astronaut?\n",
      "\n",
      "    A. We will assume you mean a NASA astronaut, since it's probably\n",
      "    impossible for a non-Russian to get into the cosmonaut corps (paying\n",
      "    passengers are not professional cosmonauts), and the other nations have\n",
      "    so few astronauts (and fly even fewer) that you're better off hoping to\n",
      "    win a lottery. Becoming a shuttle pilot requires lots of fast-jet\n",
      "    experience, which means a military flying career; forget that unless you\n",
      "    want to do it anyway. So you want to become a shuttle \"mission\n",
      "    specialist\".\n",
      "\n",
      "    If you aren't a US citizen, become one; that is a must.  After that,\n",
      "    the crucial thing to remember is that the demand for such jobs vastly\n",
      "    exceeds the supply.  NASA's problem is not finding qualified people,\n",
      "    but thinning the lineup down to manageable length.\tIt is not enough\n",
      "    to be qualified; you must avoid being *dis*qualified for any reason,\n",
      "    many of them in principle quite irrelevant to the job.'\n",
      "page_content='General Program Requirements\n",
      "\n",
      "    Selected applicants will be designated Astronaut Candidates and will be\n",
      "    assigned to the Astronaut Office at the Johnson Space Center, Houston,\n",
      "    Texas. The astronaut candidates will undergo a 1 year training and\n",
      "    evaluation period during which time they will be assigned technical or\n",
      "    scientific responsibilities allowing them to contribute substantially to\n",
      "    ongoing programs. They will also participate in the basic astronaut\n",
      "    training program which is designed to develop the knowledge and skills\n",
      "    required for formal mission training upon selection for a flight. Pilot\n",
      "    astronaut candidates will maintain proficiency in NASA aircraft during\n",
      "    their candidate period.'\n",
      "page_content='Basic Qualification Requirements\n",
      "    --------------------------------\n",
      "\n",
      "    Applicants MUST meet the following minimum requirements prior to\n",
      "    submitting an application.\n",
      "\n",
      "    Mission Specialist Astronaut Candidate:\n",
      "\n",
      "    1. Bachelor's degree from an accredited institution in engineering,\n",
      "    biological science, physical science or mathematics. Degree must be\n",
      "    followed by at least three years of related progressively responsible,\n",
      "    professional experience. An advanced degree is desirable and may be\n",
      "    substituted for part or all of the experience requirement (master's\n",
      "    degree = 1 year, doctoral degree = 3 years). Quality of academic\n",
      "    preparation is important.\n",
      "\n",
      "    2. Ability to pass a NASA class II space physical, which is similar to a\n",
      "    civilian or military class II flight physical and includes the following\n",
      "    specific standards:\n",
      "\n",
      "\t Distant visual acuity:\n",
      "\t      20/150 or better uncorrected,\n",
      "\t      correctable to 20/20, each eye.'\n",
      "page_content='14\tHow to become an astronaut\n",
      "\n",
      "    15\tOrbital and Planetary Launch Services\n",
      "\n",
      "\n",
      "    NOTES ON ADDRESSES, PHONE NUMBERS, ETC.\n",
      "\n",
      "    Unless otherwise specified, telephone numbers, addresses, and so on are\n",
      "    for the United States of America. Non-US readers should remember to add\n",
      "    the country code for telephone calls, etc.\n",
      "\n",
      "\n",
      "    CREDITS\n",
      "\n",
      "    Eugene Miya started a series of linked FAQ postings some years ago which\n",
      "    inspired (and was largely absorbed into) this set.\n",
      "\n",
      "    Peter Yee and Ron Baalke have and continue to spend a lot of their own\n",
      "    time setting up the SPACE archives at NASA Ames and forwarding official\n",
      "    NASA announcements.\n",
      "\n",
      "    Many other people have contributed material to this list in the form of\n",
      "    old postings to sci.space and sci.astro which I've edited. Please let me\n",
      "    know if corrections need to be made. Contributors I've managed to keep\n",
      "    track of are:'\n"
     ]
    }
   ],
   "source": [
    "out_docs = retriever.invoke(\"How does one become an astronaut?\")\n",
    "\n",
    "print(len(out_docs))\n",
    "for item in out_docs:\n",
    "    print(item)"
   ]
  },
  {
   "cell_type": "code",
   "execution_count": 8,
   "id": "e5197e92",
   "metadata": {},
   "outputs": [],
   "source": [
    "from langchain_core.output_parsers import StrOutputParser\n",
    "from langchain_core.runnables import RunnablePassthrough\n",
    "from langchain_core.prompts import PromptTemplate\n",
    "from langchain_openai import ChatOpenAI\n",
    "\n",
    "\n",
    "def format_docs(docs):\n",
    "    return \"\\n\\n\".join(doc.page_content for doc in docs)\n",
    "\n",
    "\n",
    "llm = ChatOpenAI(model=\"gpt-4o-mini\")\n",
    "\n",
    "prompt = PromptTemplate.from_template(\"\"\"\n",
    "You are an assistant for question-answering tasks. Use the following pieces of retrieved context to answer the question. If you don't know the answer, just say that you don't know. Use three sentences maximum and keep the answer concise.\n",
    "Question: {question} \n",
    "Context: {context} \n",
    "Answer:\n",
    "\"\"\")\n",
    "\n",
    "rag_chain = (\n",
    "    {\"context\": retriever | format_docs, \"question\": RunnablePassthrough()}\n",
    "    | prompt\n",
    "    | llm\n",
    "    | StrOutputParser()\n",
    ")"
   ]
  },
  {
   "cell_type": "code",
   "execution_count": 9,
   "id": "57fd13d3",
   "metadata": {},
   "outputs": [],
   "source": [
    "out_docs = rag_chain.invoke(\"How does one become an astronaut?\")"
   ]
  },
  {
   "cell_type": "code",
   "execution_count": 11,
   "id": "32249986",
   "metadata": {},
   "outputs": [
    {
     "name": "stdout",
     "output_type": "stream",
     "text": [
      "To become a NASA astronaut, you must be a U.S. citizen with a bachelor's degree in engineering, biological science, physical science, or mathematics, along with at least three years of relevant professional experience. Applicants must also pass a NASA class II space physical and undergo a year of training and evaluation if selected. Due to high competition, simply meeting qualifications is not enough; you must also avoid disqualifications.\n"
     ]
    }
   ],
   "source": [
    "print(out_docs)"
   ]
  },
  {
   "cell_type": "markdown",
   "id": "31bf4a31",
   "metadata": {},
   "source": [
    "### To become a NASA astronaut, you must be a U.S. citizen with a bachelor's degree in engineering, biological science, physical science, or mathematics, along with at least three years of relevant professional experience. Applicants must also pass a NASA class II space physical and undergo a year of training and evaluation if selected. Due to high competition, simply meeting qualifications is not enough; you must also avoid disqualifications."
   ]
  },
  {
   "cell_type": "code",
   "execution_count": null,
   "id": "23697983",
   "metadata": {},
   "outputs": [],
   "source": []
  }
 ],
 "metadata": {
  "kernelspec": {
   "display_name": ".venv_rag",
   "language": "python",
   "name": "python3"
  },
  "language_info": {
   "codemirror_mode": {
    "name": "ipython",
    "version": 3
   },
   "file_extension": ".py",
   "mimetype": "text/x-python",
   "name": "python",
   "nbconvert_exporter": "python",
   "pygments_lexer": "ipython3",
   "version": "3.11.9"
  }
 },
 "nbformat": 4,
 "nbformat_minor": 5
}
